{
 "cells": [
  {
   "cell_type": "markdown",
   "metadata": {},
   "source": [
    "# Assignment 3"
   ]
  },
  {
   "cell_type": "markdown",
   "metadata": {},
   "source": [
    "In this assigment, we will work with the *Forest Fire* data set. Please download the data from the [UCI Machine Learning Repository](https://archive.ics.uci.edu/dataset/162/forest+fires). Extract the data files into the subdirectory: `../data/fires/` (relative to `./src/`).\n",
    "\n",
    "## Objective\n",
    "\n",
    "+ The model objective is to predict the area affected by forest fires given the features set. \n",
    "+ The objective of this exercise is to assess your ability to construct and evaluate model pipelines.\n",
    "+ Please note: the instructions are not meant to be 100% prescriptive, but instead they are a set of minimum requirements. If you find predictive performance gains by applying additional steps, by all means show them. "
   ]
  },
  {
   "cell_type": "markdown",
   "metadata": {},
   "source": [
    "## Variable Description\n",
    "\n",
    "From the description file contained in the archive (`forestfires.names`), we obtain the following variable descriptions:\n",
    "\n",
    "1. X - x-axis spatial coordinate within the Montesinho park map: 1 to 9\n",
    "2. Y - y-axis spatial coordinate within the Montesinho park map: 2 to 9\n",
    "3. month - month of the year: \"jan\" to \"dec\" \n",
    "4. day - day of the week: \"mon\" to \"sun\"\n",
    "5. FFMC - FFMC index from the FWI system: 18.7 to 96.20\n",
    "6. DMC - DMC index from the FWI system: 1.1 to 291.3 \n",
    "7. DC - DC index from the FWI system: 7.9 to 860.6 \n",
    "8. ISI - ISI index from the FWI system: 0.0 to 56.10\n",
    "9. temp - temperature in Celsius degrees: 2.2 to 33.30\n",
    "10. RH - relative humidity in %: 15.0 to 100\n",
    "11. wind - wind speed in km/h: 0.40 to 9.40 \n",
    "12. rain - outside rain in mm/m2 : 0.0 to 6.4 \n",
    "13. area - the burned area of the forest (in ha): 0.00 to 1090.84 \n",
    "\n",
    "\n",
    "\n"
   ]
  },
  {
   "cell_type": "markdown",
   "metadata": {},
   "source": [
    "\n",
    "\n",
    "\n",
    "\n",
    "### Specific Tasks\n",
    "\n",
    "+ Construct four model pipelines, out of combinations of the following components:\n",
    "\n",
    "    + Preprocessors:\n",
    "\n",
    "        - A simple processor that only scales numeric variables and recodes categorical variables.\n",
    "        - A transformation preprocessor that scales numeric variables and applies a non-linear transformation.\n",
    "    \n",
    "    + Regressor:\n",
    "\n",
    "        - A baseline regressor, which could be a [K-nearest neighbours model](https://open.spotify.com/track/4R3AU2pjv8ge2siX1fVbZs?si=b2712f32da0e4358) or a linear model like [Lasso](https://scikit-learn.org/stable/modules/generated/sklearn.linear_model.Lasso.html) or [Ridge Regressors](https://scikit-learn.org/stable/modules/generated/sklearn.linear_model.ridge_regression.html).\n",
    "        - An advanced regressor of your choice (e.g., Bagging, Boosting, SVR, etc.). TIP: select a tree-based method such that it does not take too long to run SHAP further below. \n",
    "\n",
    "+ Evaluate tune and evaluate each of the four model pipelines. \n",
    "\n",
    "    - Select a [performance metric](https://scikit-learn.org/stable/modules/linear_model.html) out of the following options: explained variance, max error, root mean squared error (RMSE), mean absolute error (MAE), r-squared.\n",
    "    - *TIPS*: \n",
    "    \n",
    "        * Out of the suggested metrics above, [some are correlation metrics, but this is a prediction problem](https://www.tmwr.org/performance#performance). Choose wisely (and don't choose the incorrect options.) \n",
    "\n",
    "+ Select the best-performing model and explain its predictions.\n",
    "\n",
    "    - Provide local explanations.\n",
    "    - Obtain global explanations and recommend a variable selection strategy.\n",
    "\n",
    "+ Export your model as a pickle file.\n",
    "\n",
    "\n",
    "You can work on the Jupyter notebook, as this experiment is fairly short (no need to use sacred). "
   ]
  },
  {
   "cell_type": "markdown",
   "metadata": {},
   "source": [
    "# Load the data\n",
    "\n",
    "Place the files in the ../../05_src/data/fires/ directory and load the appropriate file. "
   ]
  },
  {
   "cell_type": "code",
   "execution_count": 217,
   "metadata": {},
   "outputs": [],
   "source": [
    "# Load the libraries as required.\n",
    "import pandas as pd\n",
    "import numpy as np\n",
    "from sklearn.model_selection import train_test_split, GridSearchCV\n",
    "from sklearn.pipeline import Pipeline\n",
    "from sklearn.preprocessing import StandardScaler, OneHotEncoder, FunctionTransformer\n",
    "from sklearn.compose import ColumnTransformer\n",
    "from sklearn.linear_model import Lasso, Ridge\n",
    "from sklearn.neighbors import KNeighborsRegressor\n",
    "from sklearn.ensemble import RandomForestRegressor, GradientBoostingRegressor\n",
    "from sklearn.metrics import mean_absolute_error, mean_squared_error, r2_score\n",
    "import joblib\n",
    "import shap\n"
   ]
  },
  {
   "cell_type": "code",
   "execution_count": null,
   "metadata": {},
   "outputs": [
    {
     "name": "stdout",
     "output_type": "stream",
     "text": [
      "<class 'pandas.core.frame.DataFrame'>\n",
      "RangeIndex: 517 entries, 0 to 516\n",
      "Data columns (total 13 columns):\n",
      " #   Column   Non-Null Count  Dtype  \n",
      "---  ------   --------------  -----  \n",
      " 0   coord_x  517 non-null    int64  \n",
      " 1   coord_y  517 non-null    int64  \n",
      " 2   month    517 non-null    object \n",
      " 3   day      517 non-null    object \n",
      " 4   ffmc     517 non-null    float64\n",
      " 5   dmc      517 non-null    float64\n",
      " 6   dc       517 non-null    float64\n",
      " 7   isi      517 non-null    float64\n",
      " 8   temp     517 non-null    float64\n",
      " 9   rh       517 non-null    int64  \n",
      " 10  wind     517 non-null    float64\n",
      " 11  rain     517 non-null    float64\n",
      " 12  area     517 non-null    float64\n",
      "dtypes: float64(8), int64(3), object(2)\n",
      "memory usage: 52.6+ KB\n"
     ]
    }
   ],
   "source": [
    "# Load data\n",
    "columns = [\n",
    "    'coord_x', 'coord_y', 'month', 'day', 'ffmc', 'dmc', 'dc', 'isi', 'temp', 'rh', 'wind', 'rain', 'area' \n",
    "]\n",
    "fires_dt = (pd.read_csv('/Users/omark/production/05_src/data/fires/forestfires.csv', header = 0, names = columns))\n",
    "fires_dt.info()\n"
   ]
  },
  {
   "cell_type": "markdown",
   "metadata": {},
   "source": [
    "# Get X and Y\n",
    "\n",
    "Create the features data frame and target data."
   ]
  },
  {
   "cell_type": "code",
   "execution_count": 219,
   "metadata": {},
   "outputs": [],
   "source": [
    "# Assuming 'fires_dt' is already loaded\n",
    "X = fires_dt.drop('area', axis=1)\n",
    "y = fires_dt['area']\n",
    "\n"
   ]
  },
  {
   "cell_type": "code",
   "execution_count": 220,
   "metadata": {},
   "outputs": [],
   "source": [
    "\n",
    "# Check for NaN values and handle them\n",
    "if X.isnull().sum().any() or y.isnull().sum().any():\n",
    "    # Fill NaN values with the mean for numeric features or the mode for categorical features\n",
    "    X[numeric_features] = X[numeric_features].fillna(X[numeric_features].mean())\n",
    "    for col in categorical_features:\n",
    "        X[col] = X[col].fillna(X[col].mode()[0])"
   ]
  },
  {
   "cell_type": "code",
   "execution_count": 221,
   "metadata": {},
   "outputs": [],
   "source": [
    "# Split the data into training and test sets\n",
    "X_train, X_test, y_train, y_test = train_test_split(X, y, test_size=0.3, random_state=42)\n"
   ]
  },
  {
   "cell_type": "markdown",
   "metadata": {},
   "source": [
    "# Preprocessing\n",
    "\n",
    "Create two [Column Transformers](https://scikit-learn.org/stable/modules/generated/sklearn.compose.ColumnTransformer.html), called preproc1 and preproc2, with the following guidelines:\n",
    "\n",
    "- Numerical variables\n",
    "\n",
    "    * (Preproc 1 and 2) Scaling: use a scaling method of your choice (Standard, Robust, Min-Max). \n",
    "    * Preproc 2 only: \n",
    "        \n",
    "        + Choose a transformation for any of your input variables (or several of them). Evaluate if this transformation is convenient.\n",
    "        + The choice of scaler is up to you.\n",
    "\n",
    "- Categorical variables: \n",
    "    \n",
    "    * (Preproc 1 and 2) Apply [one-hot encoding](https://scikit-learn.org/stable/modules/generated/sklearn.preprocessing.OneHotEncoder.html) where appropriate.\n",
    "\n",
    "\n",
    "+ The only difference between preproc1 and preproc2 is the non-linear transformation of the numerical variables.\n",
    "    \n"
   ]
  },
  {
   "cell_type": "code",
   "execution_count": 222,
   "metadata": {},
   "outputs": [],
   "source": [
    "# Define numeric and categorical features\n",
    "numeric_features = ['coord_x', 'coord_y', 'ffmc', 'dmc', 'dc', 'isi', 'temp', 'rh', 'wind', 'rain']\n",
    "categorical_features = ['month', 'day']\n"
   ]
  },
  {
   "cell_type": "markdown",
   "metadata": {},
   "source": [
    "### Preproc 1\n",
    "\n",
    "Create preproc1 below.\n",
    "\n",
    "+ Numeric: scaled variables, no other transforms.\n",
    "+ Categorical: one-hot encoding."
   ]
  },
  {
   "cell_type": "code",
   "execution_count": 223,
   "metadata": {},
   "outputs": [],
   "source": [
    "from sklearn.compose import ColumnTransformer\n",
    "from sklearn.preprocessing import StandardScaler, OneHotEncoder\n",
    "\n",
    "# Preproc 1: Standard scaling and one-hot encoding\n",
    "preproc1 = ColumnTransformer(\n",
    "    transformers=[\n",
    "        ('num', StandardScaler(), numeric_features),\n",
    "        ('cat', OneHotEncoder(handle_unknown='ignore'), categorical_features)\n",
    "    ])\n"
   ]
  },
  {
   "cell_type": "markdown",
   "metadata": {},
   "source": [
    "### Preproc 2\n",
    "\n",
    "Create preproc1 below.\n",
    "\n",
    "+ Numeric: scaled variables, non-linear transformation to one or more variables.\n",
    "+ Categorical: one-hot encoding."
   ]
  },
  {
   "cell_type": "code",
   "execution_count": 224,
   "metadata": {},
   "outputs": [],
   "source": [
    "from sklearn.preprocessing import PowerTransformer  # Example of non-linear transformation\n",
    "\n",
    "# Preproc 2: Standard scaling, non-linear transformation, and one-hot encoding\n",
    "preproc2 = ColumnTransformer(\n",
    "    transformers=[\n",
    "        ('num', Pipeline(steps=[\n",
    "            ('scaler', StandardScaler()),\n",
    "            ('transformer', PowerTransformer(method='yeo-johnson'))\n",
    "        ]), numeric_features),\n",
    "        ('cat', OneHotEncoder(handle_unknown='ignore'), categorical_features)\n",
    "    ])\n"
   ]
  },
  {
   "cell_type": "markdown",
   "metadata": {},
   "source": [
    "## Model Pipeline\n",
    "\n",
    "\n",
    "Create a [model pipeline](https://scikit-learn.org/stable/modules/generated/sklearn.pipeline.Pipeline.html): \n",
    "\n",
    "+ Add a step labelled `preprocessing` and assign the Column Transformer from the previous section.\n",
    "+ Add a step labelled `regressor` and assign a regression model to it.\n",
    "\n",
    "## Regressor\n",
    "\n",
    "+ Use a regression model to perform a prediction. \n",
    "\n",
    "    - Choose a baseline regressor, tune it (if necessary) using grid search, and evaluate it using cross-validation.\n",
    "    - Choose a more advance regressor, tune it (if necessary) using grid search, and evaluate it using cross-validation.\n",
    "    - Both model choices are up to you, feel free to experiment.\n"
   ]
  },
  {
   "cell_type": "code",
   "execution_count": 225,
   "metadata": {},
   "outputs": [],
   "source": [
    "from sklearn.pipeline import Pipeline\n",
    "from sklearn.linear_model import Lasso  # Baseline regressor\n",
    "from sklearn.ensemble import RandomForestRegressor  # Advanced regressor\n",
    "\n",
    "# Assuming preproc1 and preproc2 have been defined as per your previous steps\n",
    "\n",
    "# Pipeline A: Preproc1 + Lasso\n",
    "pipeline_A = Pipeline(steps=[\n",
    "    ('preprocessing', preproc1),\n",
    "    ('regressor', Lasso())\n",
    "])\n",
    "\n",
    "# Pipeline B: Preproc2 + Lasso\n",
    "pipeline_B = Pipeline(steps=[\n",
    "    ('preprocessing', preproc2),\n",
    "    ('regressor', Lasso())\n",
    "])\n",
    "\n",
    "# Pipeline C: Preproc1 + Random Forest\n",
    "pipeline_C = Pipeline(steps=[\n",
    "    ('preprocessing', preproc1),\n",
    "    ('regressor', RandomForestRegressor())\n",
    "])\n",
    "\n",
    "# Pipeline D: Preproc2 + Random Forest\n",
    "pipeline_D = Pipeline(steps=[\n",
    "    ('preprocessing', preproc2),\n",
    "    ('regressor', RandomForestRegressor())\n",
    "])\n"
   ]
  },
  {
   "cell_type": "markdown",
   "metadata": {},
   "source": [
    "# Tune Hyperparams\n",
    "\n",
    "+ Perform GridSearch on each of the four pipelines. \n",
    "+ Tune at least one hyperparameter per pipeline.\n",
    "+ Experiment with at least four value combinations per pipeline."
   ]
  },
  {
   "cell_type": "code",
   "execution_count": 226,
   "metadata": {},
   "outputs": [],
   "source": [
    "from sklearn.model_selection import GridSearchCV\n",
    "\n",
    "# Parameter grid for Pipeline A (Lasso)\n",
    "param_grid_A = {\n",
    "    'regressor__alpha': [0.01, 0.1, 1.0, 10.0]\n",
    "}\n",
    "\n",
    "# Parameter grid for Pipeline B (Lasso)\n",
    "param_grid_B = {\n",
    "    'regressor__alpha': [0.01, 0.1, 1.0, 10.0]\n",
    "}\n",
    "\n",
    "# Parameter grid for Pipeline C (Random Forest)\n",
    "param_grid_C = {\n",
    "    'regressor__n_estimators': [50, 100, 150, 200],\n",
    "    'regressor__max_depth': [None, 10, 20, 30]\n",
    "}\n",
    "\n",
    "# Parameter grid for Pipeline D (Random Forest)\n",
    "param_grid_D = {\n",
    "    'regressor__n_estimators': [50, 100, 150, 200],\n",
    "    'regressor__max_depth': [None, 10, 20, 30]\n",
    "}\n",
    "\n",
    "# GridSearch for each pipeline\n",
    "grid_A = GridSearchCV(pipeline_A, param_grid_A, cv=5, scoring='neg_mean_absolute_error')\n",
    "grid_B = GridSearchCV(pipeline_B, param_grid_B, cv=5, scoring='neg_mean_absolute_error')\n",
    "grid_C = GridSearchCV(pipeline_C, param_grid_C, cv=5, scoring='neg_mean_absolute_error')\n",
    "grid_D = GridSearchCV(pipeline_D, param_grid_D, cv=5, scoring='neg_mean_absolute_error')\n"
   ]
  },
  {
   "cell_type": "code",
   "execution_count": 227,
   "metadata": {},
   "outputs": [
    {
     "name": "stdout",
     "output_type": "stream",
     "text": [
      "Best parameters and scores:\n",
      "Pipeline(steps=[('preprocessing',\n",
      "                 ColumnTransformer(transformers=[('num', StandardScaler(),\n",
      "                                                  ['coord_x', 'coord_y', 'ffmc',\n",
      "                                                   'dmc', 'dc', 'isi', 'temp',\n",
      "                                                   'rh', 'wind', 'rain']),\n",
      "                                                 ('cat',\n",
      "                                                  OneHotEncoder(handle_unknown='ignore'),\n",
      "                                                  ['month', 'day'])])),\n",
      "                ('regressor', Lasso(alpha=10.0))]) - Best MAE: 16.98468493381102, Best Parameters: {'regressor__alpha': 10.0}\n",
      "Pipeline(steps=[('preprocessing',\n",
      "                 ColumnTransformer(transformers=[('num',\n",
      "                                                  Pipeline(steps=[('scaler',\n",
      "                                                                   StandardScaler()),\n",
      "                                                                  ('transformer',\n",
      "                                                                   PowerTransformer())]),\n",
      "                                                  ['coord_x', 'coord_y', 'ffmc',\n",
      "                                                   'dmc', 'dc', 'isi', 'temp',\n",
      "                                                   'rh', 'wind', 'rain']),\n",
      "                                                 ('cat',\n",
      "                                                  OneHotEncoder(handle_unknown='ignore'),\n",
      "                                                  ['month', 'day'])])),\n",
      "                ('regressor', Lasso(alpha=10.0))]) - Best MAE: 16.98468493381102, Best Parameters: {'regressor__alpha': 10.0}\n",
      "Pipeline(steps=[('preprocessing',\n",
      "                 ColumnTransformer(transformers=[('num', StandardScaler(),\n",
      "                                                  ['coord_x', 'coord_y', 'ffmc',\n",
      "                                                   'dmc', 'dc', 'isi', 'temp',\n",
      "                                                   'rh', 'wind', 'rain']),\n",
      "                                                 ('cat',\n",
      "                                                  OneHotEncoder(handle_unknown='ignore'),\n",
      "                                                  ['month', 'day'])])),\n",
      "                ('regressor',\n",
      "                 RandomForestRegressor(max_depth=10, n_estimators=50))]) - Best MAE: 21.085185009528836, Best Parameters: {'regressor__max_depth': 10, 'regressor__n_estimators': 50}\n",
      "Pipeline(steps=[('preprocessing',\n",
      "                 ColumnTransformer(transformers=[('num',\n",
      "                                                  Pipeline(steps=[('scaler',\n",
      "                                                                   StandardScaler()),\n",
      "                                                                  ('transformer',\n",
      "                                                                   PowerTransformer())]),\n",
      "                                                  ['coord_x', 'coord_y', 'ffmc',\n",
      "                                                   'dmc', 'dc', 'isi', 'temp',\n",
      "                                                   'rh', 'wind', 'rain']),\n",
      "                                                 ('cat',\n",
      "                                                  OneHotEncoder(handle_unknown='ignore'),\n",
      "                                                  ['month', 'day'])])),\n",
      "                ('regressor', RandomForestRegressor())]) - Best MAE: 20.961531572008408, Best Parameters: {'regressor__max_depth': None, 'regressor__n_estimators': 100}\n"
     ]
    }
   ],
   "source": [
    "# Fit each grid search\n",
    "grid_A.fit(X_train, y_train)\n",
    "grid_B.fit(X_train, y_train)\n",
    "grid_C.fit(X_train, y_train)\n",
    "grid_D.fit(X_train, y_train)\n",
    "\n",
    "# Print best results for each model\n",
    "print(\"Best parameters and scores:\")\n",
    "for model in [grid_A, grid_B, grid_C, grid_D]:\n",
    "    print(f\"{model.best_estimator_} - Best MAE: {-model.best_score_}, Best Parameters: {model.best_params_}\")\n"
   ]
  },
  {
   "cell_type": "markdown",
   "metadata": {},
   "source": [
    "# Evaluate\n",
    "\n",
    "+ Which model has the best performance?"
   ]
  },
  {
   "cell_type": "code",
   "execution_count": 228,
   "metadata": {},
   "outputs": [
    {
     "name": "stdout",
     "output_type": "stream",
     "text": [
      "Mean Absolute Error (MAE): 20.21903455501101\n",
      "Root Mean Squared Error (RMSE): 89.2591066118749\n",
      "R-squared: -0.0011646073410664926\n"
     ]
    }
   ],
   "source": [
    "import numpy as np\n",
    "import matplotlib.pyplot as plt\n",
    "from sklearn.metrics import mean_absolute_error, mean_squared_error, r2_score\n",
    "\n",
    "# Make predictions using the best model (Lasso)\n",
    "best_model = grid_A.best_estimator_\n",
    "y_pred = best_model.predict(X_test)\n",
    "\n",
    "# Calculate evaluation metrics\n",
    "mae = mean_absolute_error(y_test, y_pred)\n",
    "rmse = np.sqrt(mean_squared_error(y_test, y_pred))\n",
    "r2 = r2_score(y_test, y_pred)\n",
    "\n",
    "# Print the results\n",
    "print(f'Mean Absolute Error (MAE): {mae}')\n",
    "print(f'Root Mean Squared Error (RMSE): {rmse}')\n",
    "print(f'R-squared: {r2}')\n",
    "\n"
   ]
  },
  {
   "cell_type": "code",
   "execution_count": 229,
   "metadata": {},
   "outputs": [
    {
     "name": "stdout",
     "output_type": "stream",
     "text": [
      "Lasso Regression Model Performance:\n",
      "Mean Absolute Error (MAE): 20.21903455501101\n",
      "Root Mean Squared Error (RMSE): 89.2591066118749\n",
      "R-squared: -0.0011646073410664926\n",
      "Random Forest Model Performance:\n",
      "Mean Absolute Error (MAE): 25.060282017194528\n",
      "Root Mean Squared Error (RMSE): 95.06628202042894\n",
      "R-squared: -0.13567335195756325\n",
      "The best-performing model is: Lasso Regression\n"
     ]
    }
   ],
   "source": [
    "import pandas as pd\n",
    "import numpy as np\n",
    "from sklearn.metrics import mean_absolute_error, mean_squared_error, r2_score\n",
    "\n",
    "def evaluate_model(model, X_test, y_test):\n",
    "    y_pred = model.predict(X_test)\n",
    "    mae = mean_absolute_error(y_test, y_pred)\n",
    "    rmse = np.sqrt(mean_squared_error(y_test, y_pred))\n",
    "    r2 = r2_score(y_test, y_pred)\n",
    "    return mae, rmse, r2\n",
    "\n",
    "# Evaluate Lasso model\n",
    "best_lasso_model = grid_A.best_estimator_\n",
    "mae_lasso, rmse_lasso, r2_lasso = evaluate_model(best_lasso_model, X_test, y_test)\n",
    "\n",
    "print(f'Lasso Regression Model Performance:')\n",
    "print(f'Mean Absolute Error (MAE): {mae_lasso}')\n",
    "print(f'Root Mean Squared Error (RMSE): {rmse_lasso}')\n",
    "print(f'R-squared: {r2_lasso}')\n",
    "\n",
    "# Evaluate Random Forest model\n",
    "best_rf_model = grid_C.best_estimator_\n",
    "mae_rf, rmse_rf, r2_rf = evaluate_model(best_rf_model, X_test, y_test)\n",
    "\n",
    "print(f'Random Forest Model Performance:')\n",
    "print(f'Mean Absolute Error (MAE): {mae_rf}')\n",
    "print(f'Root Mean Squared Error (RMSE): {rmse_rf}')\n",
    "print(f'R-squared: {r2_rf}')\n",
    "\n",
    "# Summary of results\n",
    "results = pd.DataFrame({\n",
    "    'Model': ['Lasso Regression', 'Random Forest'],\n",
    "    'MAE': [mae_lasso, mae_rf],\n",
    "    'RMSE': [rmse_lasso, rmse_rf],\n",
    "    'R-squared': [r2_lasso, r2_rf]\n",
    "})\n",
    "\n",
    "best_model_name = results.loc[results['MAE'].idxmin(), 'Model']\n",
    "print(f'The best-performing model is: {best_model_name}')\n"
   ]
  },
  {
   "cell_type": "markdown",
   "metadata": {},
   "source": [
    "Best-Performing Model: Lasso Regression outperforms the other model, with lower MAE and RMSE values.\n",
    "\n",
    "Performance: While both models show negative R-squared values, indicating limited ability to capture data variability, Lasso delivers better predictive accuracy with smaller average errors."
   ]
  },
  {
   "cell_type": "markdown",
   "metadata": {},
   "source": [
    "# Export\n",
    "\n",
    "+ Save the best performing model to a pickle file."
   ]
  },
  {
   "cell_type": "code",
   "execution_count": 256,
   "metadata": {},
   "outputs": [
    {
     "name": "stdout",
     "output_type": "stream",
     "text": [
      "Best Lasso Regression model saved as 'best_lasso_model.pkl'\n"
     ]
    }
   ],
   "source": [
    "import joblib\n",
    "\n",
    "joblib.dump(best_lasso_model, 'best_lasso_model.pkl')\n",
    "print(\"Best Lasso Regression model saved as 'best_lasso_model.pkl'\")\n"
   ]
  },
  {
   "cell_type": "markdown",
   "metadata": {},
   "source": [
    "# Explain\n",
    "\n",
    "+ Use SHAP values to explain the following only for the best-performing model:\n",
    "\n",
    "    - Select an observation in your test set and explain which are the most important features that explain that observation's specific prediction.\n",
    "\n",
    "    - In general, across the complete training set, which features are the most and least important.\n",
    "\n",
    "+ If you were to remove features from the model, which ones would you remove? Why? How would you test that these features are actually enhancing model performance?"
   ]
  },
  {
   "cell_type": "code",
   "execution_count": 274,
   "metadata": {},
   "outputs": [],
   "source": [
    "import shap\n",
    "import numpy as np\n"
   ]
  },
  {
   "cell_type": "code",
   "execution_count": 277,
   "metadata": {},
   "outputs": [],
   "source": [
    "# Fit the model if not already fitted\n",
    "best_lasso_model.fit(X_train, y_train)\n",
    "\n",
    "# Transform the training and test data using the preprocessing step\n",
    "X_train_transformed = best_lasso_model.named_steps['preprocessing'].transform(X_train)\n",
    "X_test_transformed = best_lasso_model.named_steps['preprocessing'].transform(X_test)\n",
    "\n"
   ]
  },
  {
   "cell_type": "code",
   "execution_count": 278,
   "metadata": {},
   "outputs": [],
   "source": [
    "# Create the SHAP explainer for the Lasso model\n",
    "lasso_model = best_lasso_model.named_steps['regressor']  # Extract the Lasso model from the pipeline\n",
    "explainer = shap.Explainer(lasso_model, X_train_transformed)\n",
    "\n",
    "# Calculate SHAP values for the transformed test set\n",
    "shap_values = explainer(X_test_transformed)\n"
   ]
  },
  {
   "cell_type": "code",
   "execution_count": null,
   "metadata": {},
   "outputs": [],
   "source": [
    "# Select a specific observation index from the test set\n",
    "index = 0  # Change this index to select a different observation\n",
    "shap.initjs()  # Initialize JS visualizations in Jupyter\n",
    "\n",
    "# Plot the SHAP values for the selected observation\n",
    "shap.force_plot(explainer.expected_value, shap_values[index], \n",
    "                 features=X_test_transformed[index], \n",
    "                 feature_names=best_lasso_model.named_steps['preprocessing'].get_feature_names_out())"
   ]
  },
  {
   "cell_type": "code",
   "execution_count": 280,
   "metadata": {},
   "outputs": [
    {
     "data": {
      "image/png": "[encoded data removed]",
      "text/plain": [
       "<Figure size 800x950 with 2 Axes>"
      ]
     },
     "metadata": {},
     "output_type": "display_data"
    }
   ],
   "source": [
    "# Summary plot for feature importance\n",
    "shap.summary_plot(shap_values, features=X_test_transformed, feature_names=best_lasso_model.named_steps['preprocessing'].get_feature_names_out())\n"
   ]
  },
  {
   "cell_type": "markdown",
   "metadata": {},
   "source": [
    "### Answer:\n",
    "The SHAP summary plot highlights key features influencing the model. Numerical features like num_ffmc, num_dmc, num_temp, and num_isi show significant variation in SHAP values, indicating strong impact. In contrast, categorical features such as cat_day_wed and cat_month_feb contribute less.\n",
    "\n",
    "Features with minimal impact, like cat_day_tue, cat_month_jul, and cat_month_may, show tiny SHAP value variations and likely don’t affect predictions.\n",
    "\n",
    "To simplify the model, I would remove these low-impact features and retrain the model, checking performance with metrics like MAE, RMSE, and R-squared.\n",
    "\n",
    "In summary, SHAP insights help identify essential features, guiding informed decisions on feature removal to improve model performance."
   ]
  },
  {
   "cell_type": "markdown",
   "metadata": {},
   "source": [
    "## Criteria\n",
    "\n",
    "The [rubric](./assignment_3_rubric_clean.xlsx) contains the criteria for assessment."
   ]
  },
  {
   "cell_type": "markdown",
   "metadata": {},
   "source": [
    "## Submission Information\n",
    "\n",
    "🚨 **Please review our [Assignment Submission Guide](https://github.com/UofT-DSI/onboarding/blob/main/onboarding_documents/submissions.md)** 🚨 for detailed instructions on how to format, branch, and submit your work. Following these guidelines is crucial for your submissions to be evaluated correctly.\n",
    "\n",
    "### Submission Parameters:\n",
    "* Submission Due Date: `HH:MM AM/PM - DD/MM/YYYY`\n",
    "* The branch name for your repo should be: `assignment-3`\n",
    "* What to submit for this assignment:\n",
    "    * This Jupyter Notebook (assignment_3.ipynb) should be populated and should be the only change in your pull request.\n",
    "* What the pull request link should look like for this assignment: `https://github.com/<your_github_username>/production/pull/<pr_id>`\n",
    "    * Open a private window in your browser. Copy and paste the link to your pull request into the address bar. Make sure you can see your pull request properly. This helps the technical facilitator and learning support staff review your submission easily.\n",
    "\n",
    "Checklist:\n",
    "- [ ] Created a branch with the correct naming convention.\n",
    "- [ ] Ensured that the repository is public.\n",
    "- [ ] Reviewed the PR description guidelines and adhered to them.\n",
    "- [ ] Verify that the link is accessible in a private browser window.\n",
    "\n",
    "If you encounter any difficulties or have questions, please don't hesitate to reach out to our team via our Slack at `#cohort-3-help`. Our Technical Facilitators and Learning Support staff are here to help you navigate any challenges."
   ]
  },
  {
   "cell_type": "markdown",
   "metadata": {},
   "source": [
    "# Reference\n",
    "\n",
    "Cortez,Paulo and Morais,Anbal. (2008). Forest Fires. UCI Machine Learning Repository. https://doi.org/10.24432/C5D88D."
   ]
  }
 ],
 "metadata": {
  "kernelspec": {
   "display_name": "dsi_participant",
   "language": "python",
   "name": "python3"
  },
  "language_info": {
   "codemirror_mode": {
    "name": "ipython",
    "version": 3
   },
   "file_extension": ".py",
   "mimetype": "text/x-python",
   "name": "python",
   "nbconvert_exporter": "python",
   "pygments_lexer": "ipython3",
   "version": "3.9.19"
  }
 },
 "nbformat": 4,
 "nbformat_minor": 2
}
